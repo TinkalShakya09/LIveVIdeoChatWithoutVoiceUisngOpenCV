{
 "cells": [
  {
   "cell_type": "code",
   "execution_count": 1,
   "metadata": {},
   "outputs": [],
   "source": [
    "import socket\n",
    "import struct\n",
    "import cv2\n",
    "import pickle\n",
    "from _thread import *"
   ]
  },
  {
   "cell_type": "code",
   "execution_count": 2,
   "metadata": {},
   "outputs": [
    {
     "name": "stdout",
     "output_type": "stream",
     "text": [
      "my_ip is: <socket.socket fd=1144, family=AddressFamily.AF_INET, type=SocketKind.SOCK_STREAM, proto=0, laddr=('192.168.121.203', 3456)>\n"
     ]
    }
   ],
   "source": [
    "server=socket.socket(socket.AF_INET,socket.SOCK_STREAM)\n",
    "host_ip=\"192.168.121.203\"\n",
    "port=3456\n",
    "ThreadCount = 0\n",
    "server.bind((host_ip,port))\n",
    "server.listen(4)\n",
    "print(\"my_ip is:\",server)"
   ]
  },
  {
   "cell_type": "code",
   "execution_count": null,
   "metadata": {},
   "outputs": [
    {
     "name": "stdout",
     "output_type": "stream",
     "text": [
      "connected with: ('192.168.121.203', 63535)\n",
      "Thread Number: 1\n"
     ]
    },
    {
     "name": "stderr",
     "output_type": "stream",
     "text": [
      "Exception ignored in thread started by: <function threaded_client at 0x0000021575822280>\n",
      "Traceback (most recent call last):\n",
      "  File \"<ipython-input-3-b553d5c90d9d>\", line 9, in threaded_client\n",
      "ConnectionResetError: [WinError 10054] An existing connection was forcibly closed by the remote host\n"
     ]
    }
   ],
   "source": [
    "def threaded_client(client):\n",
    "    while True:\n",
    "        if client:\n",
    "            cap=cv2.VideoCapture(0)\n",
    "            while (cap.isOpened()):\n",
    "                img,frame=cap.read()\n",
    "                x=pickle.dumps(frame)\n",
    "                data=struct.pack(\"Q\",len(x))+x\n",
    "                client.sendall(data)\n",
    "                cv2.imshow(\"Server\",frame)\n",
    "                if cv2.waitKey(10)==13:\n",
    "                    break\n",
    "        cv2.destroyAllWindows()\n",
    "    client.close()\n",
    "\n",
    "\n",
    "while True:\n",
    "    Client,address=server.accept()\n",
    "    print(\"connected with:\",address)\n",
    "    start_new_thread(threaded_client, (Client, ))\n",
    "    ThreadCount += 1\n",
    "    print('Thread Number: ' + str(ThreadCount))\n"
   ]
  },
  {
   "cell_type": "code",
   "execution_count": null,
   "metadata": {},
   "outputs": [],
   "source": []
  }
 ],
 "metadata": {
  "kernelspec": {
   "display_name": "Python 3",
   "language": "python",
   "name": "python3"
  },
  "language_info": {
   "codemirror_mode": {
    "name": "ipython",
    "version": 3
   },
   "file_extension": ".py",
   "mimetype": "text/x-python",
   "name": "python",
   "nbconvert_exporter": "python",
   "pygments_lexer": "ipython3",
   "version": "3.8.3"
  }
 },
 "nbformat": 4,
 "nbformat_minor": 4
}
