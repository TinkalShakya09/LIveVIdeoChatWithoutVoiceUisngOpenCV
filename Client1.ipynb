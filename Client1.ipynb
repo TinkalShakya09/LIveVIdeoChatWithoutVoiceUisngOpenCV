{
 "cells": [
  {
   "cell_type": "code",
   "execution_count": null,
   "metadata": {},
   "outputs": [],
   "source": [
    "import socket\n",
    "import struct\n",
    "import cv2\n",
    "import pickle\n",
    "\n",
    "client=socket.socket(socket.AF_INET,socket.SOCK_STREAM)\n",
    "host_ip=\"192.168.121.203\"\n",
    "port=3456\n",
    "client.connect((host_ip,port))\n",
    "data=b\"\"\n",
    "payload_size=struct.calcsize(\"Q\")\n",
    "while True:\n",
    "    while (len(data) < payload_size):\n",
    "        packet=client.recv(4096)\n",
    "        if not packet: \n",
    "            break \n",
    "        data+=packet\n",
    "    packed_msg_size=data[:payload_size]\n",
    "    data=data[payload_size:]\n",
    "    msg_size=struct.unpack(\"Q\",packed_msg_size)[0]\n",
    "            \n",
    "    while len(data) < msg_size:              \n",
    "        data+=client.recv(4096)\n",
    "    frame_data=data[:msg_size]\n",
    "    data=data[msg_size:]\n",
    "    frame=pickle.loads(frame_data)\n",
    "    cv2.imshow(\"Client \",frame)\n",
    "    if cv2.waitKey(10)==13:\n",
    "        break\n",
    "client.close()\n"
   ]
  },
  {
   "cell_type": "code",
   "execution_count": null,
   "metadata": {},
   "outputs": [],
   "source": []
  },
  {
   "cell_type": "code",
   "execution_count": null,
   "metadata": {},
   "outputs": [],
   "source": []
  }
 ],
 "metadata": {
  "kernelspec": {
   "display_name": "Python 3",
   "language": "python",
   "name": "python3"
  },
  "language_info": {
   "codemirror_mode": {
    "name": "ipython",
    "version": 3
   },
   "file_extension": ".py",
   "mimetype": "text/x-python",
   "name": "python",
   "nbconvert_exporter": "python",
   "pygments_lexer": "ipython3",
   "version": "3.8.3"
  }
 },
 "nbformat": 4,
 "nbformat_minor": 4
}
